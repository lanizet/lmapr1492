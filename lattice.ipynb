{
 "cells": [
  {
   "cell_type": "code",
   "execution_count": 67,
   "metadata": {},
   "outputs": [
    {
     "data": {
      "text/markdown": [
       "**Les vecteurs de bases du réseau direct sont :**"
      ],
      "text/plain": [
       "<IPython.core.display.Markdown object>"
      ]
     },
     "metadata": {},
     "output_type": "display_data"
    },
    {
     "name": "stdout",
     "output_type": "stream",
     "text": [
      "3.740770 0.001886 4.119708\n",
      "1.592580 3.384827 4.119708\n",
      "0.002971 0.001886 5.564651\n"
     ]
    },
    {
     "data": {
      "text/markdown": [
       "**Les vecteurs de bases du réseau réciproque sont :**"
      ],
      "text/plain": [
       "<IPython.core.display.Markdown object>"
      ]
     },
     "metadata": {},
     "output_type": "display_data"
    },
    {
     "name": "stdout",
     "output_type": "stream",
     "text": [
      "1.680742 -0.790032 -0.000629\n",
      "-0.000243 1.857160 -0.000629\n",
      "-1.244132 -0.790032 1.130057\n"
     ]
    },
    {
     "data": {
      "text/markdown": [
       "**Le type de maille est :**"
      ],
      "text/plain": [
       "<IPython.core.display.Markdown object>"
      ]
     },
     "metadata": {},
     "output_type": "display_data"
    },
    {
     "name": "stdout",
     "output_type": "stream",
     "text": [
      "rhombohedral\n"
     ]
    },
    {
     "data": {
      "text/markdown": [
       "**Le système cristallin est :**"
      ],
      "text/plain": [
       "<IPython.core.display.Markdown object>"
      ]
     },
     "metadata": {},
     "output_type": "display_data"
    },
    {
     "name": "stdout",
     "output_type": "stream",
     "text": [
      "trigonal\n"
     ]
    },
    {
     "data": {
      "text/markdown": [
       "**Le groupe ponctuel est :**"
      ],
      "text/plain": [
       "<IPython.core.display.Markdown object>"
      ]
     },
     "metadata": {},
     "output_type": "display_data"
    },
    {
     "name": "stdout",
     "output_type": "stream",
     "text": [
      "-3m\n",
      "\n"
     ]
    },
    {
     "data": {
      "text/markdown": [
       "*Verification des vecteurs de bases des reseaux direct et reciproque :*"
      ],
      "text/plain": [
       "<IPython.core.display.Markdown object>"
      ]
     },
     "metadata": {},
     "output_type": "display_data"
    },
    {
     "name": "stdout",
     "output_type": "stream",
     "text": [
      "\n",
      "- Si les vecteurs de base sont corrects, nous devrions observer que seuls les produits scalaire de a* avec a,\n",
      "b* avec b et c* avec c sont non nuls et vallent 2π (= 6.283185307179586).\n",
      "\n",
      "a*.a = 6.283188     a*.b = 0.000003     a*.c = 0.000003\n",
      "b*.a = 0.000002     b*.b = 6.283187     b*.c = 0.000002\n",
      "c*.a = 0.000003     c*.b = 0.000003     c*.c = 6.283186\n",
      "\n",
      "0,000003 et 0,000002 étant très proches de 0, nous pouvons donc conclure que les vecteurs des réseaux de base\n",
      "et réciproque semblent corrects car ils répondent bien à la définition vue en cours.\n",
      "\n",
      "- On pourrait encore faire une vérification en regardant si la valeur du réseau réciproque a vaut bien\n",
      "le produit scalaire de b avec c multiplié par (2π/Ω) avec Ω, le volume de la maille du réseau direct\n",
      "défini comme le produit scalaire de a avec le produit vectoriel de b et c.\n",
      "\n",
      "Ω = 70.384017\n",
      "\n",
      "Le vecteur de base a du réseau réciproque devrait être : [ 1.68074195e+00 -7.90032182e-01 -6.29596292e-04].\n",
      "Le vecteur de base b du réseau réciproque devrait être : [-2.43275415e-04  1.85716000e+00 -6.29308287e-04].\n",
      "Le vecteur de base c du réseau réciproque devrait être : [-1.24413262 -0.79003248  1.13005679].\n",
      "\n",
      "Nous observons dès lors qu il s agit bien des mêmes vecteurs de base obtenus ci-dessus pour le réseau\n",
      "réciproque. Le résultat envoyé par la fonction est donc correct.\n"
     ]
    }
   ],
   "source": [
    "from pymatgen.ext.matproj import MPRester\n",
    "import numpy as np\n",
    "from numpy import linalg\n",
    "from pymatgen.io.cif import CifWriter\n",
    "with MPRester(\"1d0vsHZ2FSTu7WRT\") as m:\n",
    "    # Structure for material id\n",
    "    structure = m.get_structure_by_material_id(\"mp-12317\")\n",
    "\n",
    "#Style ecriture\n",
    "from IPython.display import Markdown, display\n",
    "def printmd(string):\n",
    "    display(Markdown(string))      \n",
    "    \n",
    "from pymatgen.symmetry.analyzer import SpacegroupAnalyzer\n",
    "\n",
    "# Retourne les vecteurs de base du reseau direct\n",
    "VecteursBase = structure.lattice\n",
    "\n",
    "# Retourne les vecteurs de base du reseau reciproque\n",
    "VecteursReciproque = VecteursBase.reciprocal_lattice\n",
    "\n",
    "printmd('**Les vecteurs de bases du réseau direct sont :**')\n",
    "print(VecteursBase)\n",
    "printmd('**Les vecteurs de bases du réseau réciproque sont :**')\n",
    "print(VecteursReciproque)\n",
    "\n",
    "B = SpacegroupAnalyzer(structure)\n",
    "\n",
    "# Type de maille\n",
    "TypeMaille = B.get_lattice_type()\n",
    "\n",
    "# Systeme cristallin\n",
    "Crystal = B.get_crystal_system()\n",
    "\n",
    "# Groupe ponctuel\n",
    "Pointgroup = B.get_point_group_symbol()\n",
    "\n",
    "printmd('**Le type de maille est :**' )\n",
    "print(TypeMaille) \n",
    "printmd('**Le système cristallin est :**' )\n",
    "print(Crystal )\n",
    "printmd('**Le groupe ponctuel est :**')\n",
    "print(Pointgroup )\n",
    "\n",
    "#Verifications\n",
    "print('')\n",
    "printmd('*Verification des vecteurs de bases des reseaux direct et reciproque :*')\n",
    "print('')\n",
    "print('- Si les vecteurs de base sont corrects, nous devrions observer que seuls les produits scalaire de a* avec a,')\n",
    "print('b* avec b et c* avec c sont non nuls et vallent 2π (= 6.283185307179586).')\n",
    "print('')\n",
    "\n",
    "a = [3.740770, 0.001886, 4.119708]\n",
    "b =[1.592580, 3.384827, 4.119708]\n",
    "c = [0.002971, 0.001886, 5.564651]\n",
    "\n",
    "a_rec = [1.680742, -0.790032, -0.000629]\n",
    "b_rec = [-0.000243, 1.857160, -0.000629]\n",
    "c_rec = [-1.244132, -0.790032, 1.130057]\n",
    "   \n",
    "dotaa = np.dot(a_rec, a)\n",
    "dotab = np.dot(a_rec, b)\n",
    "dotac = np.dot(a_rec, c)\n",
    "\n",
    "dotba = np.dot(b_rec, a)\n",
    "dotbb = np.dot(b_rec, b)\n",
    "dotbc = np.dot(b_rec, c)\n",
    "\n",
    "dotca = np.dot(c_rec, a)\n",
    "dotcb = np.dot(c_rec, b)\n",
    "dotcc = np.dot(c_rec, c)\n",
    "\n",
    "print('a*.a = %f    ' %dotaa,'a*.b = %f    ' %dotab, 'a*.c = %f' %dotac)  \n",
    "print('b*.a = %f    ' %dotba,'b*.b = %f    ' %dotbb, 'b*.c = %f' %dotbc) \n",
    "print('c*.a = %f    ' %dotca,'c*.b = %f    ' %dotcb, 'c*.c = %f' %dotcc)\n",
    "print('')\n",
    "print('0,000003 et 0,000002 étant très proches de 0, nous pouvons donc conclure que les vecteurs des réseaux de base')\n",
    "print('et réciproque semblent corrects car ils répondent bien à la définition vue en cours.')\n",
    "\n",
    "print('')\n",
    "print('- On pourrait encore faire une vérification en regardant si la valeur du réseau réciproque a vaut bien')\n",
    "print('le produit scalaire de b avec c multiplié par (2π/Ω) avec Ω, le volume de la maille du réseau direct')\n",
    "print('défini comme le produit scalaire de a avec le produit vectoriel de b et c.')\n",
    "print('')\n",
    "\n",
    "Omega = np.dot(a, (np.cross(b,c)))\n",
    "print('Ω = %f' %Omega)\n",
    "print('')\n",
    "\n",
    "a_reci = ((2 * np.pi)/Omega)*(np.cross(b,c))\n",
    "print('Le vecteur de base a du réseau réciproque devrait être : %s.' %a_reci)\n",
    "\n",
    "b_reci = ((2 * np.pi)/Omega)*(np.cross(c,a))\n",
    "print('Le vecteur de base b du réseau réciproque devrait être : %s.' %b_reci)\n",
    "\n",
    "c_reci = ((2 * np.pi)/Omega)*(np.cross(a,b))\n",
    "print('Le vecteur de base c du réseau réciproque devrait être : %s.' %c_reci)\n",
    "\n",
    "print('')\n",
    "print('Nous observons dès lors qu il s agit bien des mêmes vecteurs de base obtenus ci-dessus pour le réseau')\n",
    "print('réciproque. Le résultat envoyé par la fonction est donc correct.')\n",
    "\n",
    "#print(np.linalg.norm(a))\n",
    "#print(VecteursBase.a)"
   ]
  },
  {
   "cell_type": "code",
   "execution_count": null,
   "metadata": {},
   "outputs": [],
   "source": []
  }
 ],
 "metadata": {
  "kernelspec": {
   "display_name": "Python 3",
   "language": "python",
   "name": "python3"
  },
  "language_info": {
   "codemirror_mode": {
    "name": "ipython",
    "version": 3
   },
   "file_extension": ".py",
   "mimetype": "text/x-python",
   "name": "python",
   "nbconvert_exporter": "python",
   "pygments_lexer": "ipython3",
   "version": "3.6.8"
  }
 },
 "nbformat": 4,
 "nbformat_minor": 2
}
