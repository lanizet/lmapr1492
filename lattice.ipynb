{
 "cells": [
  {
   "cell_type": "code",
   "execution_count": 50,
   "metadata": {},
   "outputs": [
    {
     "name": "stdout",
     "output_type": "stream",
     "text": [
      "Les vecteurs de bases du reseau direct sont :\n",
      "3.740770 0.001886 4.119708\n",
      "1.592580 3.384827 4.119708\n",
      "0.002971 0.001886 5.564651\n",
      "Les vecteurs de bases du reseau reciproque sont :\n",
      "1.680742 -0.790032 -0.000629\n",
      "-0.000243 1.857160 -0.000629\n",
      "-1.244132 -0.790032 1.130057\n",
      "Le type de maille est :\n",
      "rhombohedral\n",
      "Le systeme cristallin est :\n",
      "trigonal\n",
      "Le groupe ponctuel est :\n",
      "-3m\n"
     ]
    }
   ],
   "source": [
    "from pymatgen.ext.matproj import MPRester\n",
    "from pymatgen.io.cif import CifWriter\n",
    "with MPRester(\"1d0vsHZ2FSTu7WRT\") as m:\n",
    "    # Structure for material id\n",
    "    structure = m.get_structure_by_material_id(\"mp-12317\")\n",
    "    # Telecharge le fichier CIF du materiau\n",
    "    w = CifWriter(structure)\n",
    "    w.write_file('SrCN2_mp-12317_symmetrized.cif')\n",
    "    \n",
    "from pymatgen.symmetry.analyzer import SpacegroupAnalyzer\n",
    "\n",
    "# Retourne les vecteurs de base du reseau direct\n",
    "VecteursBase = structure.lattice\n",
    "\n",
    "# Retourne les vecteurs de base du reseau reciproque\n",
    "VecteursReciproque = VecteursBase.reciprocal_lattice\n",
    "\n",
    "print('Les vecteurs de bases du reseau direct sont :')\n",
    "print(VecteursBase)\n",
    "print('Les vecteurs de bases du reseau reciproque sont :')\n",
    "print(VecteursReciproque)\n",
    "\n",
    "B = SpacegroupAnalyzer(structure)\n",
    "\n",
    "# Type de maille\n",
    "TypeMaille = B.get_lattice_type()\n",
    "\n",
    "# Systeme cristallin\n",
    "Crystal = B.get_crystal_system()\n",
    "\n",
    "# Groupe ponctuel\n",
    "Pointgroup = B.get_point_group_symbol()\n",
    "\n",
    "print('Le type de maille est :' )\n",
    "print(TypeMaille) \n",
    "print('Le systeme cristallin est :' )\n",
    "print(Crystal )\n",
    "print('Le groupe ponctuel est :')\n",
    "print(Pointgroup )\n",
    "    \n",
    "    "
   ]
  },
  {
   "cell_type": "code",
   "execution_count": null,
   "metadata": {},
   "outputs": [],
   "source": []
  }
 ],
 "metadata": {
  "kernelspec": {
   "display_name": "Python 3",
   "language": "python",
   "name": "python3"
  },
  "language_info": {
   "codemirror_mode": {
    "name": "ipython",
    "version": 3
   },
   "file_extension": ".py",
   "mimetype": "text/x-python",
   "name": "python",
   "nbconvert_exporter": "python",
   "pygments_lexer": "ipython3",
   "version": "3.6.8"
  }
 },
 "nbformat": 4,
 "nbformat_minor": 2
}
