{
 "cells": [
  {
   "cell_type": "code",
   "execution_count": 355,
   "metadata": {},
   "outputs": [
    {
     "data": {
      "text/markdown": [
       "**BANDE INTERDITE**"
      ],
      "text/plain": [
       "<IPython.core.display.Markdown object>"
      ]
     },
     "metadata": {},
     "output_type": "display_data"
    },
    {
     "name": "stdout",
     "output_type": "stream",
     "text": [
      "La bande interdite du SrCN2 est : {'direct': False, 'energy': 3.2055999999999996, 'transition': 'Z-\\\\Gamma'}\n",
      "Dès lors, nous pouvons dire que son énergie vaut 3.205600 eV, sa transition est Z-\\Gamma et qu'elle est indirecte car     direct=False.\n"
     ]
    }
   ],
   "source": [
    "from pymatgen.ext.matproj import MPRester\n",
    "from pymatgen.io.cif import CifWriter\n",
    "from matplotlib import pyplot as plt\n",
    "from scipy import constants\n",
    "with MPRester(\"1d0vsHZ2FSTu7WRT\") as m:\n",
    "    # Structure for material id\n",
    "    structure = m.get_structure_by_material_id(\"mp-12317\")\n",
    "from pymatgen.electronic_structure.plotter import BSDOSPlotter\n",
    "import numpy as np\n",
    "from pymatgen.electronic_structure.plotter import BSPlotter\n",
    "\n",
    "#Style ecriture\n",
    "from IPython.display import Markdown, display\n",
    "def printmd(string):\n",
    "    display(Markdown(string)) \n",
    "    \n",
    "bandstructure = m.get_bandstructure_by_material_id(\"mp-12317\")\n",
    "\n",
    "#Obtenir la bande interdite\n",
    "printmd('**BANDE INTERDITE**')\n",
    "Bande_Interdite = bandstructure.get_band_gap()\n",
    "print(\"La bande interdite du SrCN2 est : %s\" %Bande_Interdite)\n",
    "print(\"Dès lors, nous pouvons dire que son énergie vaut %f eV, sa transition est %s et qu'elle est indirecte car     direct=%s.\" %(Bande_Interdite.get('energy'),Bande_Interdite.get('transition'), Bande_Interdite.get('direct')))\n"
   ]
  },
  {
   "cell_type": "code",
   "execution_count": null,
   "metadata": {},
   "outputs": [
    {
     "data": {
      "text/markdown": [
       "**DIRECTIONS DE DISPERSION**"
      ],
      "text/plain": [
       "<IPython.core.display.Markdown object>"
      ]
     },
     "metadata": {},
     "output_type": "display_data"
    },
    {
     "data": {
      "text/markdown": [
       "*Avant de commencer le calcul de dispersion, nous pouvons tout d'abord vérifier si la bande interdite renvoyée par la fonction ci-dessus est bien la même que celle obtenue grâce à la fonction bs_plot_data().*"
      ],
      "text/plain": [
       "<IPython.core.display.Markdown object>"
      ]
     },
     "metadata": {},
     "output_type": "display_data"
    },
    {
     "data": {
      "text/markdown": [
       "*La bande interdite renvoyée par cette fonction est : Indirect Z-\\Gamma bandgap = 3.2055999999999996.*"
      ],
      "text/plain": [
       "<IPython.core.display.Markdown object>"
      ]
     },
     "metadata": {},
     "output_type": "display_data"
    },
    {
     "data": {
      "text/markdown": [
       "*On observe donc bien qu'il s'agit de la même que celle renvoyée ci-dessus et affichée sur le site de Materials Project.*"
      ],
      "text/plain": [
       "<IPython.core.display.Markdown object>"
      ]
     },
     "metadata": {},
     "output_type": "display_data"
    },
    {
     "data": {
      "text/markdown": [
       "*Nous pouvons donc maintenant passer au calcul de la direction dans laquelle la dernière (première) bande de valence (conduction) présente le plus et le moins de dispersion :*"
      ],
      "text/plain": [
       "<IPython.core.display.Markdown object>"
      ]
     },
     "metadata": {},
     "output_type": "display_data"
    },
    {
     "name": "stdout",
     "output_type": "stream",
     "text": [
      "Tout d'abord, nous allons trouver l'indice de la dernière bande de valence et de la première bande de conduction.\n",
      "Pour ce faire, on peut utiliser la fonction get_cbm() qui nous renverra l'indice de la première bande de conduction. Dès lors, nous savons que l'indice de la dernière bande de valence est l'indice de la première bande de conduction diminué de 1.\n",
      "\n"
     ]
    },
    {
     "data": {
      "text/markdown": [
       "**Calcul de l'indice de la dernière (première) bande de valence (conduction) :**"
      ],
      "text/plain": [
       "<IPython.core.display.Markdown object>"
      ]
     },
     "metadata": {},
     "output_type": "display_data"
    },
    {
     "name": "stdout",
     "output_type": "stream",
     "text": [
      "Nous obtenons que l'indice de la première bande de conduction est 12. \n",
      "Et donc que l'indice de la dernière bande de valence est 11. \n",
      "\n",
      "\n",
      "Pour trouver la direction dans laquelle la dernière (première) bande de valence (conduction) présente le plus et le\n",
      "moins de dispersion nous allons calculer la pente de ces 2 bandes dans chacune des branches. En effet, la dispersion est le rapport de l'énergie sur une distance. \n",
      "La branche dans laquelle la pente sera la plus grande (petite) correspondra à la branche qui a le plus (moins) de dispersion. \n"
     ]
    },
    {
     "data": {
      "text/markdown": [
       "**Calcul des pentes :**"
      ],
      "text/plain": [
       "<IPython.core.display.Markdown object>"
      ]
     },
     "metadata": {},
     "output_type": "display_data"
    },
    {
     "name": "stdout",
     "output_type": "stream",
     "text": [
      "Pour les calculer, nous allons faire la différence entre notre valeur maximale et minimale de l'énergie divisée par  la longueur de la branche. Nous allons encoder ces valeurs dans un vecteur pour lequel chaque colonne correspond à    une branche.\n",
      "\n"
     ]
    },
    {
     "data": {
      "text/markdown": [
       "*Les pentes de la dernière bande de valence dans chaque branche sont reprises dans le vecteur suivant : [0.7775309962780252, 0.4046735944647708, 0.5329897133056617, 1.5698447594716332, 0.4506824375121399, 0.3696419901273444, 0.782353173022482, 0.643569656368001, 0.6341349316342259].*"
      ],
      "text/plain": [
       "<IPython.core.display.Markdown object>"
      ]
     },
     "metadata": {},
     "output_type": "display_data"
    },
    {
     "name": "stdout",
     "output_type": "stream",
     "text": [
      "\n"
     ]
    },
    {
     "data": {
      "text/markdown": [
       "*Tandis que celles de la première bande de conduction dans chaque branche sont reprises dans le vecteur suivant : [1.5823078848078986, 2.0918950221491364, 1.1887305151236922, 1.7918299907237538, 1.9437441661432397, 1.8659442195272251, 0.09757438450055964, 0.477280237777994, 0.8795913204763003].*"
      ],
      "text/plain": [
       "<IPython.core.display.Markdown object>"
      ]
     },
     "metadata": {},
     "output_type": "display_data"
    },
    {
     "name": "stdout",
     "output_type": "stream",
     "text": [
      "\n",
      "Il ne reste plus qu'à prendre la valeur de la pente la plus grande et de la pente la plus petite dans la dernière (première) bande de valence (conduction) : \n"
     ]
    },
    {
     "data": {
      "text/markdown": [
       "*La plus grande dispersion de la dernière bande de valence se trouve dans la branche 4, sa valeur vaut 1.569845 [eV/Angstrom].* "
      ],
      "text/plain": [
       "<IPython.core.display.Markdown object>"
      ]
     },
     "metadata": {},
     "output_type": "display_data"
    },
    {
     "data": {
      "text/markdown": [
       "*La plus petite dispersion de la dernière bande de valence se trouve dans la branche 6, sa valeur vaut 0.369642 [eV/Angstrom].* "
      ],
      "text/plain": [
       "<IPython.core.display.Markdown object>"
      ]
     },
     "metadata": {},
     "output_type": "display_data"
    },
    {
     "data": {
      "text/markdown": [
       "*La plus grande dispersion de la première bande de conduction se trouve dans la branche 2, sa valeur vaut 2.091895 [eV/Angstrom].* "
      ],
      "text/plain": [
       "<IPython.core.display.Markdown object>"
      ]
     },
     "metadata": {},
     "output_type": "display_data"
    },
    {
     "data": {
      "text/markdown": [
       "*La plus petite dispersion de la première bande de conduction se trouve dans la branche 7, sa valeur vaut 0.097574 [eV/Angstrom].* "
      ],
      "text/plain": [
       "<IPython.core.display.Markdown object>"
      ]
     },
     "metadata": {},
     "output_type": "display_data"
    },
    {
     "name": "stdout",
     "output_type": "stream",
     "text": [
      "\n",
      "Les directions de chacune des dispersions sont représentées dans la figure ci-dessous :\n"
     ]
    },
    {
     "data": {
      "text/plain": [
       "<matplotlib.patches.FancyArrow at 0x7fe320a2ab38>"
      ]
     },
     "execution_count": 356,
     "metadata": {},
     "output_type": "execute_result"
    }
   ],
   "source": [
    "#Directions de dispersion\n",
    "printmd('**DIRECTIONS DE DISPERSION**')\n",
    "\n",
    "bs = BSPlotter(bandstructure)\n",
    "data = bs.bs_plot_data()\n",
    "Energie = data.get('energy')\n",
    "Abscisses = data.get('distances')\n",
    "\n",
    "printmd(\"*Avant de commencer le calcul de dispersion, nous pouvons tout d'abord vérifier si la bande interdite renvoyée par la fonction ci-dessus est bien la même que celle obtenue grâce à la fonction bs_plot_data().*\")\n",
    "Bande_Gap = data.get('band_gap')\n",
    "printmd('*La bande interdite renvoyée par cette fonction est : %s.*' %Bande_Gap)\n",
    "printmd(\"*On observe donc bien qu'il s'agit de la même que celle renvoyée ci-dessus et affichée sur le site de Materials Project.*\")\n",
    "printmd('*Nous pouvons donc maintenant passer au calcul de la direction dans laquelle la dernière (première) bande de valence (conduction) présente le plus et le moins de dispersion :*')\n",
    "\n",
    "\n",
    "    #Calcul de l'indice de la derniere bande de valence et de la premiere bande de conduction pour chaque branche. \n",
    "print(\"Tout d'abord, nous allons trouver l'indice de la dernière bande de valence et de la première bande de conduction.\")\n",
    "print(\"Pour ce faire, on peut utiliser la fonction get_cbm() qui nous renverra l'indice de la première bande de conduction. Dès lors, nous savons que l'indice de la dernière bande de valence est l'indice de la première bande de conduction diminué de 1.\")\n",
    "print('')\n",
    "printmd(\"**Calcul de l'indice de la dernière (première) bande de valence (conduction) :**\")\n",
    "BdeDeCond = bandstructure.get_cbm()\n",
    "IndCond = (BdeDeCond.get(\"band_index\").get(list(BdeDeCond.get(\"band_index\").keys())[0]))[0]\n",
    "IndVal = IndCond - 1\n",
    "\n",
    "print(\"Nous obtenons que l'indice de la première bande de conduction est %i. \" %IndCond)\n",
    "print(\"Et donc que l'indice de la dernière bande de valence est %i. \" %IndVal)\n",
    "print('')\n",
    "print('')\n",
    "print(\"Pour trouver la direction dans laquelle la dernière (première) bande de valence (conduction) présente le plus et le\")\n",
    "print(\"moins de dispersion nous allons calculer la pente de ces 2 bandes dans chacune des branches. En effet, la dispersion est le rapport de l'énergie sur une distance. \")\n",
    "print(\"La branche dans laquelle la pente sera la plus grande (petite) correspondra à la branche qui a le plus (moins) de dispersion. \")\n",
    "printmd(\"**Calcul des pentes :**\")\n",
    "print(\"Pour les calculer, nous allons faire la différence entre notre valeur maximale et minimale de l'énergie divisée par  la longueur de la branche. Nous allons encoder ces valeurs dans un vecteur pour lequel chaque colonne correspond à    une branche.\")\n",
    "print('')\n",
    "\n",
    "Energie_Branches_Val = []\n",
    "Energie_Branches_Cond = []\n",
    "for i in range (0,9) : \n",
    "    Energie_Branches_Val.append((Energie[i].get('1'))[IndVal])\n",
    "    Energie_Branches_Cond.append((Energie[i].get('1'))[IndCond])\n",
    "\n",
    "#Calcul des longueurs de chaque branche dans deltaX et de la différence entre le maximum et le minimum dans deltaY\n",
    "deltaX = []\n",
    "deltaYVal = []\n",
    "deltaYCond = []\n",
    "for i in range (0,9) : \n",
    "    deltaX.append(np.max(Abscisses[i])-np.min(Abscisses[i]))\n",
    "    deltaYVal.append(np.max(Energie_Branches_Val[i])-np.min(Energie_Branches_Val[i])) \n",
    "    deltaYCond.append(np.max(Energie_Branches_Cond[i])-np.min(Energie_Branches_Cond[i]))  \n",
    "\n",
    "PentesVal = []\n",
    "PentesCond = []\n",
    "for i in range (0,9):\n",
    "    PentesVal.append(deltaYVal[i]/deltaX[i])\n",
    "    PentesCond.append(deltaYCond[i]/deltaX[i])\n",
    "\n",
    "printmd(\"*Les pentes de la dernière bande de valence dans chaque branche sont reprises dans le vecteur suivant : %s.*\" %PentesVal)\n",
    "print('')\n",
    "printmd(\"*Tandis que celles de la première bande de conduction dans chaque branche sont reprises dans le vecteur suivant : %s.*\" %PentesCond)\n",
    "print('')\n",
    "print(\"Il ne reste plus qu'à prendre la valeur de la pente la plus grande et de la pente la plus petite dans la dernière (première) bande de valence (conduction) : \")\n",
    "IndPlusVal = np.argmax(PentesVal) + 1\n",
    "IndMoinsVal = np.argmin(PentesVal) +1\n",
    "IndPlusCond = np.argmax(PentesCond) +1\n",
    "IndMoinsCond = np.argmin(PentesCond) +1\n",
    "\n",
    "printmd(\"*La plus grande dispersion de la dernière bande de valence se trouve dans la branche %i, sa valeur vaut %f [eV/Angstrom].* \" %(IndPlusVal,np.max(PentesVal)))\n",
    "printmd(\"*La plus petite dispersion de la dernière bande de valence se trouve dans la branche %i, sa valeur vaut %f [eV/Angstrom].* \" %(IndMoinsVal,np.min(PentesVal)))                   \n",
    "printmd(\"*La plus grande dispersion de la première bande de conduction se trouve dans la branche %i, sa valeur vaut %f [eV/Angstrom].* \" %(IndPlusCond,np.max(PentesCond)))\n",
    "printmd(\"*La plus petite dispersion de la première bande de conduction se trouve dans la branche %i, sa valeur vaut %f [eV/Angstrom].* \" %(IndMoinsCond,np.min(PentesCond)))\n",
    "print('')\n",
    "print(\"Les directions de chacune des dispersions sont représentées dans la figure ci-dessous :\")\n",
    "\n",
    "Graphe = bs.get_plot()\n",
    "plt.scatter(np.max(Abscisses[3]), Energie_Branches_Val[3][-1], color = 'red')\n",
    "plt.scatter(np.min(Abscisses[3]), Energie_Branches_Val[3][0], color = 'red')\n",
    "plt.arrow(np.max(Abscisses[3]),Energie_Branches_Val[3][-1],np.min(Abscisses[3])-np.max(Abscisses[3]),Energie_Branches_Val[3][0]-Energie_Branches_Val[3][-1],head_width = 0.1, length_includes_head = True, color =  'red' )\n",
    "\n",
    "plt.scatter(np.max(Abscisses[5]), Energie_Branches_Val[5][-1], color = 'red')\n",
    "plt.scatter(np.min(Abscisses[5]), Energie_Branches_Val[5][0], color = 'red')\n",
    "plt.arrow(np.max(Abscisses[5]),Energie_Branches_Val[5][-1],np.min(Abscisses[5])-np.max(Abscisses[5]),Energie_Branches_Val[5][0]-Energie_Branches_Val[5][-1],head_width = 0.1, length_includes_head = True, color =  'red' )\n",
    "\n",
    "plt.scatter(np.max(Abscisses[1]), Energie_Branches_Cond[1][-1], color = 'green')\n",
    "plt.scatter(np.min(Abscisses[1]), Energie_Branches_Cond[1][0], color = 'green')\n",
    "plt.arrow(np.max(Abscisses[1]),Energie_Branches_Cond[1][-1],np.min(Abscisses[1])-np.max(Abscisses[1]),Energie_Branches_Cond[1][0]-Energie_Branches_Cond[1][-1],head_width = 0.1, length_includes_head = True, color =  'green' )\n",
    "\n",
    "plt.scatter(np.max(Abscisses[6]), Energie_Branches_Cond[6][-1], color = 'green')\n",
    "plt.scatter(np.min(Abscisses[6]), Energie_Branches_Cond[6][0], color = 'green')\n",
    "plt.arrow(np.max(Abscisses[6]),Energie_Branches_Cond[6][-1],np.min(Abscisses[6])-np.max(Abscisses[6]),Energie_Branches_Cond[6][0]-Energie_Branches_Cond[6][-1],head_width = 0.1, length_includes_head = True, color =  'green' )\n",
    "\n",
    "\n"
   ]
  },
  {
   "cell_type": "code",
   "execution_count": 353,
   "metadata": {},
   "outputs": [
    {
     "data": {
      "text/markdown": [
       "**MASSE EFFECTIVE :**"
      ],
      "text/plain": [
       "<IPython.core.display.Markdown object>"
      ]
     },
     "metadata": {},
     "output_type": "display_data"
    },
    {
     "name": "stdout",
     "output_type": "stream",
     "text": [
      "La masse effective est inversément proportionnelle à la courbure de la dispersion de l'énergie dans l'espace des k.  Dès lors, on va dans un premier temps approximer notre courbe par une parabole (car on devait supposer une dispersion parabolique).\n",
      "Une fois notre parabole approximée, nous pourrons calculer la masse effective en divisant la constante de Planck par la dérivée seconde de l'équation parabolique (qui vaut 2*a, a étant le terme du second degré).\n",
      "Enfin, pour obtenir une masse effective en kg, il faut diviser le résultat par (1eV*1Å^2).\n",
      "\n"
     ]
    },
    {
     "data": {
      "text/markdown": [
       "**Sommet 1**"
      ],
      "text/plain": [
       "<IPython.core.display.Markdown object>"
      ]
     },
     "metadata": {},
     "output_type": "display_data"
    },
    {
     "name": "stdout",
     "output_type": "stream",
     "text": [
      "Le sommet 1 se trouve aux coordonnées (2.496488194843472, 0.0).\n",
      "La masse effective en kg au sommet 1 vaut :\n",
      "-2.5816965572651995e-30\n",
      "\n"
     ]
    },
    {
     "data": {
      "text/markdown": [
       "**Sommet 2**"
      ],
      "text/plain": [
       "<IPython.core.display.Markdown object>"
      ]
     },
     "metadata": {},
     "output_type": "display_data"
    },
    {
     "name": "stdout",
     "output_type": "stream",
     "text": [
      "Le sommet 2 se trouve aux coordonnées (5.72331177148325, 0.0).\n",
      "La masse effective en kg au sommet 2 vaut :\n",
      "-2.770354873345662e-30\n",
      "\n"
     ]
    },
    {
     "data": {
      "text/markdown": [
       "**Base 1**"
      ],
      "text/plain": [
       "<IPython.core.display.Markdown object>"
      ]
     },
     "metadata": {},
     "output_type": "display_data"
    },
    {
     "name": "stdout",
     "output_type": "stream",
     "text": [
      "La base 1 se trouve aux coordonnées (0.0, 3.2055999999999996).\n",
      "La masse effective en kg à la base 1 vaut :\n",
      "3.660902876781322e-30\n",
      "\n"
     ]
    },
    {
     "data": {
      "text/markdown": [
       "**Base 2**"
      ],
      "text/plain": [
       "<IPython.core.display.Markdown object>"
      ]
     },
     "metadata": {},
     "output_type": "display_data"
    },
    {
     "name": "stdout",
     "output_type": "stream",
     "text": [
      "La base 2 se trouve aux coordonnées (3.1172502123107213, 3.2055999999999996).\n",
      "La masse effective en kg à la base 2 vaut :\n",
      "2.6441734633600095e-28\n"
     ]
    }
   ],
   "source": [
    "#Calcul de la masse effective\n",
    "printmd('**MASSE EFFECTIVE :**')\n",
    "print(\"La masse effective est inversément proportionnelle à la courbure de la dispersion de l'énergie dans l'espace des k.  Dès lors, on va dans un premier temps approximer notre courbe par une parabole (car on devait supposer une dispersion parabolique).\")\n",
    "print(\"Une fois notre parabole approximée, nous pourrons calculer la masse effective en divisant la constante de Planck par la dérivée seconde de l'équation parabolique (qui vaut 2*a, a étant le terme du second degré).\")\n",
    "print(\"Enfin, pour obtenir une masse effective en kg, il faut diviser le résultat par (1eV*1Å^2).\")\n",
    "\n",
    "Cbm = data.get('cbm')\n",
    "Vbm = data.get('vbm')\n",
    "\n",
    "bs = BSPlotter(bandstructure)\n",
    "data = bs.bs_plot_data()\n",
    "Abscisses = data.get('distances')\n",
    "\n",
    "Sommet1 = Vbm[0]\n",
    "Sommet2 = Vbm[2]\n",
    "Base1 = Cbm[0]\n",
    "Base2 = Cbm[1]\n",
    "\n",
    "print('')\n",
    "printmd('**Sommet 1**')\n",
    "print(\"Le sommet 1 se trouve aux coordonnées (2.496488194843472, 0.0).\")\n",
    "AxeX1Val = Abscisses[2] + Abscisses[3]\n",
    "Ordonnees1Val = Energie_Branches_Val[2] + Energie_Branches_Val[3]\n",
    "parab1Val = np.polyfit(AxeX1Val, Ordonnees1Val, 2)\n",
    "a1Val = parab1Val[0]\n",
    "\n",
    "A = 10**(-10)\n",
    "eV = 1.60218*10**(-19)\n",
    "ConsttePlanck = constants.hbar\n",
    "\n",
    "Masse_effective1Val = ((ConsttePlanck)**2)/(2*a1Val*(A**2)*eV)\n",
    "print(\"La masse effective en kg au sommet 1 vaut :\")\n",
    "print(Masse_effective1Val)\n",
    "\n",
    "print('')\n",
    "printmd('**Sommet 2**')\n",
    "print(\"Le sommet 2 se trouve aux coordonnées (5.72331177148325, 0.0).\")\n",
    "AxeX2Val = Abscisses[7] + Abscisses[8]\n",
    "Ordonnees2Val = Energie_Branches_Val[7] + Energie_Branches_Val[8]\n",
    "\n",
    "parab2Val = np.polyfit(AxeX2Val, Ordonnees2Val, 2)\n",
    "a2Val = parab2Val[0]\n",
    "Masse_effective2Val = ((ConsttePlanck)**2)/(2*a2Val*k)\n",
    "print(\"La masse effective en kg au sommet 2 vaut :\")\n",
    "print(Masse_effective2Val)\n",
    "\n",
    "print('')\n",
    "printmd('**Base 1**')\n",
    "print(\"La base 1 se trouve aux coordonnées (0.0, 3.2055999999999996).\")\n",
    "AxeX1Cond = Abscisses[3] + Abscisses[4]\n",
    "Ordonnees1Cond = Energie_Branches_Val[3] + Energie_Branches_Val[4]\n",
    "parab1Cond = np.polyfit(AxeX1Cond, Ordonnees1Cond, 2)\n",
    "a1Cond = parab1Cond[0]\n",
    "\n",
    "Masse_effective1Cond = ((ConsttePlanck)**2)/(2*a1Cond*k)\n",
    "print(\"La masse effective en kg à la base 1 vaut :\")\n",
    "print(Masse_effective1Cond)\n",
    "\n",
    "print('')\n",
    "printmd('**Base 2**')\n",
    "print(\"La base 2 se trouve aux coordonnées (3.1172502123107213, 3.2055999999999996).\")\n",
    "AxeX2Cond = Abscisses[0]\n",
    "Ordonnees2Cond = Energie_Branches_Val[0]\n",
    "parab2Cond = np.polyfit(AxeX2Cond, Ordonnees2Cond, 2)\n",
    "a2Cond = parab2Cond[0]\n",
    "\n",
    "Masse_effective2Cond = ((ConsttePlanck)**2)/(2*a2Cond*k)\n",
    "print(\"La masse effective en kg à la base 2 vaut :\")\n",
    "print(Masse_effective2Cond)\n"
   ]
  },
  {
   "cell_type": "code",
   "execution_count": null,
   "metadata": {},
   "outputs": [],
   "source": []
  }
 ],
 "metadata": {
  "kernelspec": {
   "display_name": "Python 3",
   "language": "python",
   "name": "python3"
  },
  "language_info": {
   "codemirror_mode": {
    "name": "ipython",
    "version": 3
   },
   "file_extension": ".py",
   "mimetype": "text/x-python",
   "name": "python",
   "nbconvert_exporter": "python",
   "pygments_lexer": "ipython3",
   "version": "3.6.8"
  }
 },
 "nbformat": 4,
 "nbformat_minor": 2
}
